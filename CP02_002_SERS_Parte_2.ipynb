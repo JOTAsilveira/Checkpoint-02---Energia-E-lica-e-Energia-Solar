{
  "nbformat": 4,
  "nbformat_minor": 0,
  "metadata": {
    "colab": {
      "provenance": []
    },
    "kernelspec": {
      "name": "python3",
      "display_name": "Python 3"
    },
    "language_info": {
      "name": "python"
    }
  },
  "cells": [
    {
      "cell_type": "code",
      "execution_count": null,
      "metadata": {
        "id": "tq-5XfBc3h9r",
        "colab": {
          "base_uri": "https://localhost:8080/"
        },
        "outputId": "ecf8bccc-ab51-4ffb-cd2c-19ad1447696e"
      },
      "outputs": [
        {
          "output_type": "stream",
          "name": "stdout",
          "text": [
            "==================================================\n",
            "Modelo: Regressão Linear\n",
            "RMSE: 411.71\n",
            "R²: 0.9007\n",
            "==================================================\n",
            "Modelo: Árvore de Regressão\n",
            "RMSE: 538.79\n",
            "R²: 0.8299\n",
            "==================================================\n",
            "Modelo: Random Forest\n",
            "RMSE: 412.32\n",
            "R²: 0.9004\n",
            "\n",
            "Resumo dos Resultados:\n",
            "Regressão Linear: RMSE=411.71, R²=0.9007\n",
            "Árvore de Regressão: RMSE=538.79, R²=0.8299\n",
            "Random Forest: RMSE=412.32, R²=0.9004\n"
          ]
        }
      ],
      "source": [
        "import pandas as pd\n",
        "import numpy as np\n",
        "from sklearn.model_selection import train_test_split\n",
        "from sklearn.preprocessing import StandardScaler\n",
        "from sklearn.linear_model import LinearRegression\n",
        "from sklearn.tree import DecisionTreeRegressor\n",
        "from sklearn.ensemble import RandomForestRegressor\n",
        "from sklearn.metrics import mean_squared_error, r2_score\n",
        "\n",
        "dados = pd.read_csv(\"T1.csv\")\n",
        "\n",
        "y = dados[\"LV ActivePower (kW)\"]\n",
        "X = dados.drop(columns=[\"LV ActivePower (kW)\", \"Date/Time\"], errors=\"ignore\")\n",
        "\n",
        "X = X.select_dtypes(include=[np.number]).copy()\n",
        "\n",
        "X_treino, X_teste, y_treino, y_teste = train_test_split(\n",
        "    X, y, test_size=0.20, random_state=42\n",
        ")\n",
        "\n",
        "escalador = StandardScaler()\n",
        "X_treino = escalador.fit_transform(X_treino)\n",
        "X_teste  = escalador.transform(X_teste)\n",
        "\n",
        "modelos = {\n",
        "    \"Regressão Linear\": LinearRegression(),\n",
        "    \"Árvore de Regressão\": DecisionTreeRegressor(random_state=42),\n",
        "    \"Random Forest\": RandomForestRegressor(random_state=42, n_estimators=300)\n",
        "}\n",
        "\n",
        "resultados = {}\n",
        "for nome, modelo in modelos.items():\n",
        "    modelo.fit(X_treino, y_treino)\n",
        "    y_pred = modelo.predict(X_teste)\n",
        "\n",
        "    mse = mean_squared_error(y_teste, y_pred)\n",
        "    rmse = np.sqrt(mse)\n",
        "    r2   = r2_score(y_teste, y_pred)\n",
        "    resultados[nome] = {\"RMSE\": rmse, \"R²\": r2}\n",
        "\n",
        "    print(\"=\"*50)\n",
        "    print(f\"Modelo: {nome}\")\n",
        "    print(f\"RMSE: {rmse:.2f}\")\n",
        "    print(f\"R²: {r2:.4f}\")\n",
        "\n",
        "print(\"\\nResumo dos Resultados:\")\n",
        "for nome, res in resultados.items():\n",
        "    print(f\"{nome}: RMSE={res['RMSE']:.2f}, R²={res['R²']:.4f}\")\n"
      ]
    }
  ]
}