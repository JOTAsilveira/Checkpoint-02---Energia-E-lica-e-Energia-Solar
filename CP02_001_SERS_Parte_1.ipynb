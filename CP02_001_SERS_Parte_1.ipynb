{
  "nbformat": 4,
  "nbformat_minor": 0,
  "metadata": {
    "colab": {
      "provenance": []
    },
    "kernelspec": {
      "name": "python3",
      "display_name": "Python 3"
    },
    "language_info": {
      "name": "python"
    }
  },
  "cells": [
    {
      "cell_type": "code",
      "source": [
        "# Importar as bibliotecas necessárias\n",
        "import pandas as pd\n",
        "import numpy as np\n",
        "import matplotlib.pyplot as plt\n",
        "from sklearn.model_selection import train_test_split\n",
        "from sklearn.linear_model import LinearRegression\n",
        "from sklearn.tree import DecisionTreeRegressor\n",
        "from sklearn.ensemble import RandomForestRegressor\n",
        "from sklearn.metrics import mean_squared_error, mean_absolute_error, r2_score\n",
        "from sklearn.preprocessing import StandardScaler\n",
        "import zipfile\n",
        "import os\n",
        "\n",
        "# Etapa 1: Carregar e extrair o arquivo ZIP\n",
        "zip_file_path = '/content/SolarPrediction.csv.zip'  # Caminho onde o arquivo foi carregado\n",
        "extracted_folder_path = '/content/SolarPrediction_csv/'  # Pasta para extrair os arquivos\n",
        "\n",
        "# Extrair o arquivo ZIP\n",
        "with zipfile.ZipFile(zip_file_path, 'r') as zip_ref:\n",
        "    zip_ref.extractall(extracted_folder_path)\n",
        "\n",
        "# Listar os arquivos extraídos\n",
        "extracted_files = os.listdir(extracted_folder_path)\n",
        "print(\"Arquivos extraídos:\", extracted_files)\n",
        "\n",
        "# Etapa 2: Carregar o arquivo CSV\n",
        "csv_file_path = os.path.join(extracted_folder_path, 'SolarPrediction.csv')  # Caminho completo do CSV\n",
        "data = pd.read_csv(csv_file_path)\n",
        "\n",
        "# Exibir as primeiras linhas do dataset\n",
        "print(data.head())\n",
        "\n",
        "# Etapa 3: Pré-processamento dos dados\n",
        "# Remover a coluna 'Data' se ela não for relevante para a previsão\n",
        "data.drop(columns=['Data'], inplace=True)\n",
        "\n",
        "# Converter as variáveis de tempo para formato numérico (por exemplo, hora do dia)\n",
        "data['Time'] = pd.to_datetime(data['Time'], format='%H:%M:%S').dt.hour\n",
        "\n",
        "# Preencher valores nulos, mas apenas nas colunas numéricas\n",
        "data.fillna(data.select_dtypes(include=[np.number]).mean(), inplace=True)\n",
        "\n",
        "# Etapa 4: Selecionar as colunas relevantes para a previsão de consumo de energia\n",
        "# Como não há uma coluna 'Consumption', vamos prever com as colunas disponíveis (Ex: Radiation, Temperature, etc.)\n",
        "# Consideramos as colunas 'Radiation', 'Temperature', 'Pressure', etc., como variáveis preditoras.\n",
        "X = data[['Radiation', 'Temperature', 'Pressure', 'Humidity', 'WindDirection(Degrees)', 'Speed', 'Time']]\n",
        "\n",
        "# Como o consumo de energia não está presente diretamente, vamos usar uma das colunas numéricas como o alvo (Ex: 'Radiation')\n",
        "y = data['Radiation']  # Se você tiver outra coluna para prever, substitua 'Radiation' aqui\n",
        "\n",
        "# Etapa 5: Dividir os dados em conjunto de treinamento e teste\n",
        "X_train, X_test, y_train, y_test = train_test_split(X, y, test_size=0.2, random_state=42)\n",
        "\n",
        "# Etapa 6: Normalizar os dados (opcional, mas recomendável)\n",
        "scaler = StandardScaler()\n",
        "X_train = scaler.fit_transform(X_train)\n",
        "X_test = scaler.transform(X_test)\n",
        "\n",
        "# Etapa 7: Modelos a serem testados\n",
        "models = {\n",
        "    'Linear Regression': LinearRegression(),\n",
        "    'Decision Tree': DecisionTreeRegressor(),\n",
        "    'Random Forest': RandomForestRegressor()\n",
        "}\n",
        "\n",
        "# Etapa 8: Avaliar cada modelo\n",
        "results = {}\n",
        "\n",
        "for model_name, model in models.items():\n",
        "    # Treinar o modelo\n",
        "    model.fit(X_train, y_train)\n",
        "\n",
        "    # Fazer previsões\n",
        "    y_pred = model.predict(X_test)\n",
        "\n",
        "    # Avaliar o modelo\n",
        "    rmse = np.sqrt(mean_squared_error(y_test, y_pred))\n",
        "    mae = mean_absolute_error(y_test, y_pred)\n",
        "    r2 = r2_score(y_test, y_pred)\n",
        "\n",
        "    # Armazenar os resultados\n",
        "    results[model_name] = {'RMSE': rmse, 'MAE': mae, 'R²': r2}\n",
        "\n",
        "# Mostrar os resultados\n",
        "results_df = pd.DataFrame(results).T\n",
        "print(results_df)\n",
        "\n",
        "# Etapa 9: Plotar os resultados (opcional)\n",
        "results_df.plot(kind='bar', figsize=(10, 6), title='Model Evaluation')\n",
        "plt.xticks(rotation=0)\n",
        "plt.ylabel('Score')\n",
        "plt.show()\n",
        "\n",
        "# Etapa 10: Escolher o melhor modelo (com base em R² ou outras métricas)\n",
        "best_model = max(results.items(), key=lambda x: x[1]['R²'])\n",
        "print(f\"O melhor modelo é: {best_model[0]} com R² = {best_model[1]['R²']}\")\n"
      ],
      "metadata": {
        "id": "rtCR58UQ6j_r",
        "collapsed": true,
        "colab": {
          "base_uri": "https://localhost:8080/",
          "height": 875
        },
        "outputId": "c8d84cdf-a1d4-4728-826d-49cea85b9913"
      },
      "execution_count": null,
      "outputs": [
        {
          "output_type": "stream",
          "name": "stdout",
          "text": [
            "Arquivos extraídos: ['SolarPrediction.csv']\n",
            "     UNIXTime                   Data      Time  Radiation  Temperature  \\\n",
            "0  1475229326  9/29/2016 12:00:00 AM  23:55:26       1.21           48   \n",
            "1  1475229023  9/29/2016 12:00:00 AM  23:50:23       1.21           48   \n",
            "2  1475228726  9/29/2016 12:00:00 AM  23:45:26       1.23           48   \n",
            "3  1475228421  9/29/2016 12:00:00 AM  23:40:21       1.21           48   \n",
            "4  1475228124  9/29/2016 12:00:00 AM  23:35:24       1.17           48   \n",
            "\n",
            "   Pressure  Humidity  WindDirection(Degrees)  Speed TimeSunRise TimeSunSet  \n",
            "0     30.46        59                  177.39   5.62    06:13:00   18:13:00  \n",
            "1     30.46        58                  176.78   3.37    06:13:00   18:13:00  \n",
            "2     30.46        57                  158.75   3.37    06:13:00   18:13:00  \n",
            "3     30.46        60                  137.71   3.37    06:13:00   18:13:00  \n",
            "4     30.46        62                  104.95   5.62    06:13:00   18:13:00  \n",
            "                           RMSE           MAE        R²\n",
            "Linear Regression  6.995873e-13  5.416425e-13  1.000000\n",
            "Decision Tree      5.746705e-01  6.951514e-02  0.999997\n",
            "Random Forest      2.108655e-01  3.639653e-02  1.000000\n"
          ]
        },
        {
          "output_type": "display_data",
          "data": {
            "text/plain": [
              "<Figure size 1000x600 with 1 Axes>"
            ],
            "image/png": "[encoded data removed]"
          },
          "metadata": {}
        },
        {
          "output_type": "stream",
          "name": "stdout",
          "text": [
            "O melhor modelo é: Linear Regression com R² = 1.0\n"
          ]
        }
      ]
    }
  ]
}